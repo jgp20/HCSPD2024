{
  "nbformat": 4,
  "nbformat_minor": 0,
  "metadata": {
    "colab": {
      "provenance": [],
      "authorship_tag": "ABX9TyMpyxkuFD6JCzAt+zMQ1wkP",
      "include_colab_link": true
    },
    "kernelspec": {
      "name": "python3",
      "display_name": "Python 3"
    },
    "language_info": {
      "name": "python"
    }
  },
  "cells": [
    {
      "cell_type": "markdown",
      "metadata": {
        "id": "view-in-github",
        "colab_type": "text"
      },
      "source": [
        "<a href=\"https://colab.research.google.com/github/jgp20/HCSPD2024/blob/main/Visualizaci%C3%B3n_en_Colab_y_en_Python_interactiva.ipynb\" target=\"_parent\"><img src=\"https://colab.research.google.com/assets/colab-badge.svg\" alt=\"Open In Colab\"/></a>"
      ]
    },
    {
      "cell_type": "markdown",
      "source": [
        "#Visualización en Colab y en Python interactiva\n",
        "\n",
        "Se deben cargar librerías de visualización de Pyhton, como Matplotlib y Plotly. La primera es muy rápida y la segunda permite hacer zoom en alguna zona de interés."
      ],
      "metadata": {
        "id": "a9MIeeylyf8R"
      }
    },
    {
      "cell_type": "code",
      "source": [
        "!apt install octave #Instala colab en el entorno de trabajo"
      ],
      "metadata": {
        "id": "KHolfpMomp-d"
      },
      "execution_count": null,
      "outputs": []
    },
    {
      "cell_type": "code",
      "source": [
        "%%writefile Avion_Num.m\n",
        "clc;clear all;\n",
        "warning('off','all');\n",
        "X=-[0; 0;0;0];t_etapa=10e-3;\n",
        "tF=5;\n",
        "color_='r';\n",
        "color='b';\n",
        "Ts=t_etapa;\n",
        "u=1;\n",
        "ii=0;\n",
        "for t=0:t_etapa:tF\n",
        "  ii=ii+1;\n",
        "  x2(ii)=X(2);%Ángulo fi\n",
        "  x4(ii)=X(4);%tensión en el capacitor\n",
        "  X=modavion(t_etapa, X, u);\n",
        "  acc(ii)=u;\n",
        "end\n",
        "t=0:t_etapa:tF;\n",
        "hfig1 = figure(1); set(hfig1, 'Visible', 'off');\n",
        "subplot(3,1,1);hold on;\n",
        "plot(t,x2,color_);title('x_2 angulo fi'); hold on;\n",
        "%plot(t,x1_analitica,color);title('x_1 corriente'); hold on;\n",
        "subplot(3,1,2);hold on;\n",
        "plot(t,x4,color_);title('x_4 Altura');\n",
        "subplot(3,1,3);hold on;\n",
        "plot(t,acc,color_);title('Entrada u_t, v_a');\n",
        "xlabel('Tiempo [Seg.]');\n",
        "%figure(1)\n",
        "%figure(2)\n",
        "print(hfig1,'VarsAvion_temporal','-r300','-dpng');\n",
        "save('Verificacion_Num_1Avion.mat','-v7');"
      ],
      "metadata": {
        "colab": {
          "base_uri": "https://localhost:8080/"
        },
        "id": "x-pN5dGU7pz6",
        "outputId": "a9081856-1b47-4727-c871-a5c6b74ff81c"
      },
      "execution_count": 2,
      "outputs": [
        {
          "output_type": "stream",
          "name": "stdout",
          "text": [
            "Writing Avion_Num.m\n"
          ]
        }
      ]
    },
    {
      "cell_type": "code",
      "source": [
        "%%writefile modavion.m\n",
        "%Funcion modelo\n",
        "function [X]=modavion(t_etapa, xant, accion)\n",
        "%xant=[alfa,fi,fi_p,h]\n",
        "a=0.01; b=2; c=100;\n",
        "omega=0.2;\n",
        "At=1e-3;\n",
        "u=accion;\n",
        "%xant=[alfa,fi,fi_p,h]\n",
        "alfa=xant(1);\n",
        "fi=xant(2);\n",
        "fi_p=xant(3);\n",
        "h=xant(4);\n",
        "x=xant;\n",
        "for ii=1:t_etapa/At\n",
        "  %xp=A*x+B*u;\n",
        "  alfa_p=a*(fi-alfa);\n",
        "  fi_pp=(-omega^2)*(fi-alfa-b*u);\n",
        "  h_p=c*alfa;\n",
        "  xp=[alfa_p;fi_p;fi_pp;h_p];\n",
        "  x=x+xp*At;\n",
        "  fi_p=xp(2);\n",
        "  alfa=x(1);\n",
        "  fi=x(2);\n",
        "  fi_p=x(3);\n",
        "  h=x(4);\n",
        "end\n",
        "X=[x]; %"
      ],
      "metadata": {
        "colab": {
          "base_uri": "https://localhost:8080/"
        },
        "id": "QtO7mte975VB",
        "outputId": "71e38822-eef0-4382-93c4-a3f04b047905"
      },
      "execution_count": 3,
      "outputs": [
        {
          "output_type": "stream",
          "name": "stdout",
          "text": [
            "Writing modavion.m\n"
          ]
        }
      ]
    },
    {
      "cell_type": "code",
      "source": [
        "# -W : no window system\n",
        "!octave -W Avion_Num.m\n"
      ],
      "metadata": {
        "id": "pSsbDVii8BwD"
      },
      "execution_count": 4,
      "outputs": []
    },
    {
      "cell_type": "markdown",
      "source": [
        "Se deben cargar librerías de visualización de Pyhton, como Matplotlib y Plotly. La primera es muy rápida y la segunda permite hacer zoom en alguna zona de interés."
      ],
      "metadata": {
        "id": "rWxHbgdDYzRq"
      }
    },
    {
      "cell_type": "code",
      "source": [
        "import numpy as np\n",
        "import scipy.io\n",
        "import pandas as pd\n",
        "from matplotlib import pyplot as plt\n",
        "import plotly.graph_objects as go"
      ],
      "metadata": {
        "id": "3o_lX6GqrjrC"
      },
      "execution_count": 5,
      "outputs": []
    },
    {
      "cell_type": "code",
      "source": [
        "#Importa los datos que se generaron desde Octave en el archivo .mat simulación de 5 segundos\n",
        "mat = scipy.io.loadmat('/content/Verificacion_Num_1Avion.mat')\n",
        "t=mat.get('t')  # Seleccionar celda y colocar mouse sobre t, observar caracteristicas del array\n",
        "x2=mat.get('x2') # Seleccionar celda y colocar mouse sobre x2, observar caracteristicas del array\n",
        "x4=mat.get('x4') # Seleccionar celda y colocar mouse sobre x4, observar caracteristicas del array\n",
        "acc=mat.get('acc') # Seleccionar celda y colocar mouse sobre acc, observar caracteristicas del array\n",
        "# plot(t,x2,color_);title('x_2 angulo fi');\n",
        "# plot(t,x4,color_);title('x_4 Altura');\n",
        "# plot(t,acc,color_);title('Entrada u_t, v_a');\n",
        "# Siempre conviene armar un DataFrame para graficar y procesar los datos\n",
        "df = pd.DataFrame({'t': t[0], 'Angulo fi': x2[0], 'x4': x4[0], 'acc': acc[0]}) # Seleccionar celda y colocar mouse sobre df, observar caracteristicas del array y oprimir view\n",
        "# 't' , 'Angulo fi' , 'x4' , 'acc' nombre que asigno a los vectores t, x2, x4 y acc, pero se debe utilizar t[0], x2[0], x4[0] y acc[0]"
      ],
      "metadata": {
        "id": "LKWwENROnsIz"
      },
      "execution_count": 8,
      "outputs": []
    },
    {
      "cell_type": "code",
      "source": [
        "df.tail(3) #Verificar que sea correcto y consistente el DataFrame. Veo la últimas tres filas"
      ],
      "metadata": {
        "id": "XH0BkvA4udIH"
      },
      "execution_count": null,
      "outputs": []
    },
    {
      "cell_type": "code",
      "source": [
        "import matplotlib.pyplot as plt\n",
        "plt.figure(figsize=(10, 7))\n",
        "plt.plot(df.index, df['x4'], label='Altura $h_t$, [m]')\n",
        "plt.plot(df.index, df['Angulo fi'], label='$\\phi_t$, [rad.]')\n",
        "plt.title('Altura $h_t$, [m]')\n",
        "plt.xlabel('Tiempo [Seg.]')\n",
        "plt.ylabel('Metros')\n",
        "plt.legend()\n",
        "plt.show()"
      ],
      "metadata": {
        "id": "3GnkrEvxuAkk"
      },
      "execution_count": null,
      "outputs": []
    },
    {
      "cell_type": "code",
      "source": [
        "fig = go.Figure()\n",
        "fig.add_trace(go.Scatter(x=df.index, y=df['Angulo fi'], mode='lines', name='Ángulo $\\phi_t$'))\n",
        "fig.add_trace(go.Scatter(x=df.index, y=df['x4'], mode='lines', name='Altura $h_t$'))\n",
        "# Customize the layout\n",
        "fig.update_layout(title='Simulación del avión',\n",
        "                  xaxis_title='Tiempo [Seg.]',\n",
        "                  yaxis_title='Valores',\n",
        "                  legend_title='Variables',\n",
        "                  showlegend=True)\n",
        "# Display the interactive Plotly chart\n",
        "fig.show()"
      ],
      "metadata": {
        "id": "I-Fa9QcZmuzs"
      },
      "execution_count": null,
      "outputs": []
    }
  ]
}